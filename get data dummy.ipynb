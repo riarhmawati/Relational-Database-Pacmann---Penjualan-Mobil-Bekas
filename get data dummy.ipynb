{
 "cells": [
  {
   "cell_type": "code",
   "execution_count": 1,
   "id": "9a2694da",
   "metadata": {},
   "outputs": [],
   "source": [
    "from faker import Faker\n",
    "from tabulate import tabulate\n",
    "import random\n",
    "from datetime import datetime, timedelta\n",
    "import pandas as pd"
   ]
  },
  {
   "cell_type": "code",
   "execution_count": 2,
   "id": "3de313c2",
   "metadata": {},
   "outputs": [],
   "source": [
    "#read data\n",
    "data_cities = pd.read_csv(r'C:\\Users\\Ria Rahmawati\\Documents\\Pacmann\\city.csv', sep=',')\n",
    "data_car_products = pd.read_csv(r'C:\\Users\\Ria Rahmawati\\Documents\\Pacmann\\car_product.csv', sep=',') "
   ]
  },
  {
   "cell_type": "code",
   "execution_count": 3,
   "id": "01a163da",
   "metadata": {},
   "outputs": [
    {
     "name": "stdout",
     "output_type": "stream",
     "text": [
      "<class 'pandas.core.frame.DataFrame'>\n",
      "RangeIndex: 50 entries, 0 to 49\n",
      "Data columns (total 6 columns):\n",
      " #   Column      Non-Null Count  Dtype \n",
      "---  ------      --------------  ----- \n",
      " 0   product_id  50 non-null     int64 \n",
      " 1   brand       50 non-null     object\n",
      " 2   model       50 non-null     object\n",
      " 3   body_type   50 non-null     object\n",
      " 4   year        50 non-null     int64 \n",
      " 5   price       50 non-null     int64 \n",
      "dtypes: int64(3), object(3)\n",
      "memory usage: 2.5+ KB\n"
     ]
    }
   ],
   "source": [
    "data_car_products.info()"
   ]
  },
  {
   "cell_type": "code",
   "execution_count": 4,
   "id": "ff2cfda2",
   "metadata": {},
   "outputs": [],
   "source": [
    "data_cities.columns = ['id_city', 'city_name', 'latitude', 'longitude']\n",
    "data_car_products.columns = ['id_product', 'brand', 'model', 'body_type', 'vehicle_year', 'price']"
   ]
  },
  {
   "cell_type": "code",
   "execution_count": 5,
   "id": "d09f9a2d",
   "metadata": {},
   "outputs": [
    {
     "name": "stdout",
     "output_type": "stream",
     "text": [
      "<class 'pandas.core.frame.DataFrame'>\n",
      "RangeIndex: 50 entries, 0 to 49\n",
      "Data columns (total 6 columns):\n",
      " #   Column        Non-Null Count  Dtype \n",
      "---  ------        --------------  ----- \n",
      " 0   id_product    50 non-null     int64 \n",
      " 1   brand         50 non-null     object\n",
      " 2   model         50 non-null     object\n",
      " 3   body_type     50 non-null     object\n",
      " 4   vehicle_year  50 non-null     int64 \n",
      " 5   price         50 non-null     int64 \n",
      "dtypes: int64(3), object(3)\n",
      "memory usage: 2.5+ KB\n"
     ]
    }
   ],
   "source": [
    "data_car_products.info()"
   ]
  },
  {
   "cell_type": "code",
   "execution_count": 6,
   "id": "db8b722a",
   "metadata": {},
   "outputs": [
    {
     "name": "stdout",
     "output_type": "stream",
     "text": [
      "<class 'pandas.core.frame.DataFrame'>\n",
      "RangeIndex: 15 entries, 0 to 14\n",
      "Data columns (total 4 columns):\n",
      " #   Column     Non-Null Count  Dtype  \n",
      "---  ------     --------------  -----  \n",
      " 0   id_city    15 non-null     int64  \n",
      " 1   city_name  15 non-null     object \n",
      " 2   latitude   15 non-null     float64\n",
      " 3   longitude  15 non-null     float64\n",
      "dtypes: float64(2), int64(1), object(1)\n",
      "memory usage: 608.0+ bytes\n"
     ]
    }
   ],
   "source": [
    "data_cities.info()"
   ]
  },
  {
   "cell_type": "code",
   "execution_count": 7,
   "id": "753c8477",
   "metadata": {},
   "outputs": [],
   "source": [
    "# define tabel cities\n",
    "tabel_cities = data_cities.to_dict()\n",
    "total_city = data_cities.shape[0]"
   ]
  },
  {
   "cell_type": "code",
   "execution_count": 8,
   "id": "c5f1d12c",
   "metadata": {},
   "outputs": [],
   "source": [
    "fake = Faker('id_ID')\n",
    "\n",
    "table = {}\n",
    "total = 30\n",
    "table['id_user'] = [i+1 for i in range(total)]\n",
    "names = [fake.name() for i in range(total)]\n",
    "table['fullname'] = [i for i in names]\n",
    "table['phone_number'] = [fake.phone_number() for i in range(total)]\n",
    "table['email'] = [f\"{name.lower().replace(' ', '')}@{fake.free_email_domain()}\" \\\n",
    "                  for name in names]\n",
    "created_at = [fake.date_time_between(start_date=\"-1y\", end_date=\"now\", tzinfo=None) for _ in range(total)]\n",
    "table['created_at']=pd.Series(created_at)\n",
    "table['id_city'] = [random.choice(tabel_cities['id_city']) for i in range(total)]\n",
    "\n"
   ]
  },
  {
   "cell_type": "code",
   "execution_count": 9,
   "id": "0ccbd6f2",
   "metadata": {},
   "outputs": [],
   "source": [
    "table = pd.DataFrame(table)\n",
    "table.to_csv('users_2.csv', index=False)"
   ]
  },
  {
   "cell_type": "code",
   "execution_count": 10,
   "id": "4e7b548d",
   "metadata": {},
   "outputs": [],
   "source": [
    "# define tabel products\n",
    "tabel_car_products = data_car_products.to_dict()\n",
    "# calculate rows\n",
    "total_car_products = data_car_products.shape[0]"
   ]
  },
  {
   "cell_type": "code",
   "execution_count": 11,
   "id": "767cce48",
   "metadata": {},
   "outputs": [
    {
     "name": "stdout",
     "output_type": "stream",
     "text": [
      "50\n"
     ]
    }
   ],
   "source": [
    "print(total_car_products)"
   ]
  },
  {
   "cell_type": "code",
   "execution_count": 12,
   "id": "d166ed7f",
   "metadata": {},
   "outputs": [],
   "source": [
    "# print(tabel_car_products)"
   ]
  },
  {
   "cell_type": "code",
   "execution_count": 13,
   "id": "9ad1aa86",
   "metadata": {},
   "outputs": [],
   "source": [
    "fake = Faker('id_ID')\n",
    "\n",
    "# table = {}\n",
    "total = 50\n",
    "\n",
    "color = [fake.color_name() for i in range(total)]\n",
    "tabel_car_products['color'] = [i for i in color] \n",
    "distance = [fake.random_number(digits=5) for i in range(total)]\n",
    "tabel_car_products['distance']= [i for i in color]\n",
    "\n",
    "tabel_car_products['color']=pd.Series(color)\n",
    "tabel_car_products['distance']=pd.Series(distance)"
   ]
  },
  {
   "cell_type": "code",
   "execution_count": 14,
   "id": "b8c5f435",
   "metadata": {},
   "outputs": [
    {
     "name": "stdout",
     "output_type": "stream",
     "text": [
      "{'id_product': {0: 1, 1: 2, 2: 3, 3: 4, 4: 5, 5: 6, 6: 7, 7: 8, 8: 9, 9: 10, 10: 11, 11: 12, 12: 13, 13: 14, 14: 15, 15: 16, 16: 17, 17: 18, 18: 19, 19: 20, 20: 21, 21: 22, 22: 23, 23: 24, 24: 25, 25: 26, 26: 27, 27: 28, 28: 29, 29: 30, 30: 31, 31: 32, 32: 33, 33: 34, 34: 35, 35: 36, 36: 37, 37: 38, 38: 39, 39: 40, 40: 41, 41: 42, 42: 43, 43: 44, 44: 45, 45: 46, 46: 47, 47: 48, 48: 49, 49: 50}, 'brand': {0: 'Toyota', 1: 'Toyota', 2: 'Toyota', 3: 'Toyota', 4: 'Toyota', 5: 'Toyota', 6: 'Toyota', 7: 'Toyota', 8: 'Toyota', 9: 'Toyota', 10: 'Toyota', 11: 'Toyota', 12: 'Toyota', 13: 'Toyota', 14: 'Toyota', 15: 'Daihatsu', 16: 'Daihatsu', 17: 'Daihatsu', 18: 'Daihatsu', 19: 'Daihatsu', 20: 'Daihatsu', 21: 'Daihatsu', 22: 'Daihatsu', 23: 'Daihatsu', 24: 'Daihatsu', 25: 'Daihatsu', 26: 'Daihatsu', 27: 'Daihatsu', 28: 'Daihatsu', 29: 'Daihatsu', 30: 'Honda', 31: 'Honda', 32: 'Honda', 33: 'Honda', 34: 'Honda', 35: 'Honda', 36: 'Honda', 37: 'Honda', 38: 'Honda', 39: 'Honda', 40: 'Honda', 41: 'Honda', 42: 'Honda', 43: 'Honda', 44: 'Honda', 45: 'Suzuki', 46: 'Suzuki', 47: 'Suzuki', 48: 'Suzuki', 49: 'Suzuki'}, 'model': {0: 'Toyota Yaris', 1: 'Toyota Yaris', 2: 'Toyota Yaris', 3: 'Toyota Yaris', 4: 'Toyota Yaris', 5: 'Toyota Agya', 6: 'Toyota Agya', 7: 'Toyota Agya', 8: 'Toyota Agya', 9: 'Toyota Agya', 10: 'Toyota Calya', 11: 'Toyota Calya', 12: 'Toyota Calya', 13: 'Toyota Calya', 14: 'Toyota Calya', 15: 'Daihatsu Ayla', 16: 'Daihatsu Ayla', 17: 'Daihatsu Ayla', 18: 'Daihatsu Ayla', 19: 'Daihatsu Ayla', 20: 'Daihatsu Terios', 21: 'Daihatsu Terios', 22: 'Daihatsu Terios', 23: 'Daihatsu Terios', 24: 'Daihatsu Terios', 25: 'Daihatsu Xenia', 26: 'Daihatsu Xenia', 27: 'Daihatsu Xenia', 28: 'Daihatsu Xenia', 29: 'Daihatsu Xenia', 30: 'Honda Jazz', 31: 'Honda Jazz', 32: 'Honda Jazz', 33: 'Honda Jazz', 34: 'Honda Jazz', 35: 'Honda CR-V', 36: 'Honda CR-V', 37: 'Honda CR-V', 38: 'Honda CR-V', 39: 'Honda CR-V', 40: 'Honda Civic', 41: 'Honda Civic', 42: 'Honda Civic', 43: 'Honda Civic', 44: 'Honda Civic', 45: 'Suzuki Ertiga', 46: 'Suzuki Ertiga', 47: 'Suzuki Ertiga', 48: 'Suzuki Ertiga', 49: 'Suzuki Ertiga'}, 'body_type': {0: 'Hatchback', 1: 'Hatchback', 2: 'Hatchback', 3: 'Hatchback', 4: 'Hatchback', 5: 'Hatchback', 6: 'Hatchback', 7: 'Hatchback', 8: 'Hatchback', 9: 'Hatchback', 10: 'Wagon', 11: 'Wagon', 12: 'Wagon', 13: 'Wagon', 14: 'Wagon', 15: 'Hatchback', 16: 'Hatchback', 17: 'Hatchback', 18: 'Hatchback', 19: 'Hatchback', 20: 'SUV', 21: 'SUV', 22: 'SUV', 23: 'SUV', 24: 'SUV', 25: 'MPV', 26: 'MPV', 27: 'MPV', 28: 'MPV', 29: 'MPV', 30: 'Hatchback', 31: 'Hatchback', 32: 'Hatchback', 33: 'Hatchback', 34: 'Hatchback', 35: 'SUV', 36: 'SUV', 37: 'SUV', 38: 'SUV', 39: 'SUV', 40: 'Hatchback', 41: 'Sedan', 42: 'Sedan', 43: 'Sedan', 44: 'Hatchback', 45: 'MPV', 46: 'MPV', 47: 'MPV', 48: 'MPV', 49: 'MPV'}, 'vehicle_year': {0: 2016, 1: 2018, 2: 2014, 3: 2020, 4: 2012, 5: 2019, 6: 2014, 7: 2016, 8: 2022, 9: 2017, 10: 2019, 11: 2019, 12: 2017, 13: 2016, 14: 2016, 15: 2016, 16: 2019, 17: 2015, 18: 2017, 19: 2017, 20: 2018, 21: 2022, 22: 2019, 23: 2017, 24: 2018, 25: 2019, 26: 2022, 27: 2017, 28: 2014, 29: 2018, 30: 2018, 31: 2019, 32: 2018, 33: 2015, 34: 2013, 35: 2018, 36: 2017, 37: 2009, 38: 2016, 39: 2018, 40: 2018, 41: 2010, 42: 2013, 43: 2013, 44: 2019, 45: 2015, 46: 2018, 47: 2016, 48: 2012, 49: 2018}, 'price': {0: 175000000, 1: 215000000, 2: 162000000, 3: 220000000, 4: 124000000, 5: 114000000, 6: 97000000, 7: 110000000, 8: 155500000, 9: 115500000, 10: 130000000, 11: 137000000, 12: 115500000, 13: 104000000, 14: 107000000, 15: 83000000, 16: 120000000, 17: 96000000, 18: 115000000, 19: 113000000, 20: 190000000, 21: 223000000, 22: 189900000, 23: 166000000, 24: 201000000, 25: 170000000, 26: 220500000, 27: 135000000, 28: 100000000, 29: 159000000, 30: 236000000, 31: 250000000, 32: 216000000, 33: 192000000, 34: 178000000, 35: 415000000, 36: 345000000, 37: 116000000, 38: 269000000, 39: 398500000, 40: 350000000, 41: 165000000, 42: 186000000, 43: 179000000, 44: 397500000, 45: 125000000, 46: 178000000, 47: 168000000, 48: 100000000, 49: 167000000}, 'color': 0           Jingga\n",
      "1       Coklat tua\n",
      "2            Perak\n",
      "3        Biru muda\n",
      "4             Nila\n",
      "5           Kuning\n",
      "6           Jingga\n",
      "7            Koral\n",
      "8        Hijau tua\n",
      "9        Hijau tua\n",
      "10    Biru dongker\n",
      "11      Merah bata\n",
      "12           Putih\n",
      "13           Putih\n",
      "14           Koral\n",
      "15            Ungu\n",
      "16          Coklat\n",
      "17          Coklat\n",
      "18           Perak\n",
      "19      Hijau muda\n",
      "20            Nila\n",
      "21           Hijau\n",
      "22           Hijau\n",
      "23          Coklat\n",
      "24      Coklat tua\n",
      "25          Coklat\n",
      "26           Putih\n",
      "27           Koral\n",
      "28     Merah jambu\n",
      "29       Biru muda\n",
      "30           Putih\n",
      "31           Perak\n",
      "32            Biru\n",
      "33            Biru\n",
      "34     Merah jambu\n",
      "35        Ungu tua\n",
      "36          Zaitun\n",
      "37            Nila\n",
      "38    Biru dongker\n",
      "39     Merah marun\n",
      "40            Ungu\n",
      "41           Hitam\n",
      "42           Putih\n",
      "43       Biru laut\n",
      "44       Hijau tua\n",
      "45           Hijau\n",
      "46    Biru dongker\n",
      "47         Magenta\n",
      "48      Coklat tua\n",
      "49           Hijau\n",
      "dtype: object, 'distance': 0     31825\n",
      "1     44918\n",
      "2      1739\n",
      "3     12902\n",
      "4     35111\n",
      "5     71834\n",
      "6     68304\n",
      "7     90691\n",
      "8     25714\n",
      "9     50153\n",
      "10    43161\n",
      "11    90928\n",
      "12    90160\n",
      "13    74974\n",
      "14    84567\n",
      "15    75183\n",
      "16    76710\n",
      "17    32687\n",
      "18    78697\n",
      "19    73742\n",
      "20    17571\n",
      "21    14566\n",
      "22    18881\n",
      "23    73655\n",
      "24    46592\n",
      "25    99505\n",
      "26    39296\n",
      "27    40444\n",
      "28    32199\n",
      "29    51020\n",
      "30    24260\n",
      "31    33201\n",
      "32    53581\n",
      "33    77087\n",
      "34    86862\n",
      "35     3180\n",
      "36    65313\n",
      "37    42199\n",
      "38    45811\n",
      "39    84737\n",
      "40    90708\n",
      "41    76909\n",
      "42    14289\n",
      "43    11271\n",
      "44    73144\n",
      "45    70010\n",
      "46     8096\n",
      "47    10490\n",
      "48    73203\n",
      "49    64977\n",
      "dtype: int64}\n"
     ]
    }
   ],
   "source": [
    "print(tabel_car_products)"
   ]
  },
  {
   "cell_type": "code",
   "execution_count": null,
   "id": "07adc30f",
   "metadata": {},
   "outputs": [],
   "source": [
    "tabel_car_products = pd.DataFrame(tabel_car_products)\n",
    "tabel_car_products.to_csv('products.csv', index=False)"
   ]
  },
  {
   "cell_type": "code",
   "execution_count": 26,
   "id": "5de66238",
   "metadata": {},
   "outputs": [],
   "source": [
    "fake = Faker('id_ID')\n",
    "# ads\n",
    "table_ads = {}\n",
    "total = 50\n",
    "table_ads['id_ads'] = [i+1 for i in range(total)]\n",
    "table_ads['title'] = [fake.catch_phrase() for i in range(total)]\n",
    "table_ads['detail_ads'] = [fake.paragraph(nb_sentences=3) for i in range(total)]\n",
    "table_ads['availability'] = [fake.boolean() for i in range(total)]\n",
    "created_at = [fake.date_time_between(start_date=\"-1y\", end_date=\"now\", tzinfo=None) for _ in range(total)]\n",
    "table_ads['created_at']=pd.Series(created_at)\n",
    "table_ads['price'] = [fake.random_int(min=1000000, max=100000000) for i in range(total)]\n",
    "table_ads['bid_allowed'] = [fake.boolean() for i in range(total)]\n",
    "# Fetching data from tabel_car_products\n",
    "id_product_list = list(tabel_car_products['id_product'])\n",
    "# price_list = list(tabel_car_products['price'])\n",
    "\n",
    "# Generating random values for id_product and assigning corresponding price\n",
    "random_ids = random.choices(id_product_list, k=total)\n",
    "table_ads['id_product'] = random_ids\n",
    "table_ads['id_user'] = [random.choice(table['id_user']) for i in range(total)]\n",
    "# table_ads['price'] = [price_list[id_product_list.index(product_id)] for product_id in random_ids]\n",
    "\n",
    "\n",
    "\n",
    "\n"
   ]
  },
  {
   "cell_type": "code",
   "execution_count": 27,
   "id": "4573f677",
   "metadata": {},
   "outputs": [],
   "source": [
    "table_ads = pd.DataFrame(table_ads)\n",
    "table_ads.to_csv('ads_2.csv', index=False)"
   ]
  },
  {
   "cell_type": "code",
   "execution_count": 17,
   "id": "71b838d2",
   "metadata": {},
   "outputs": [],
   "source": [
    "fake = Faker('id_ID')\n",
    "# bids\n",
    "table_bids = {}\n",
    "total = 70\n",
    "table_bids['id_bid'] = [i+1 for i in range(total)]\n",
    "created_at = [fake.date_time_between(start_date=\"-1y\", end_date=\"now\", tzinfo=None) for _ in range(total)]\n",
    "table_bids['created_at']=pd.Series(created_at)\n",
    "table_bids['bid_price'] = [fake.random_int(min=1000000, max=100000000) for i in range(total)]\n",
    "table_bids['status'] = [fake.random_element(elements=('Accept', 'reject')) for i in range(total)]\n",
    "\n",
    "table_bids['id_user'] = [random.choice(table['id_user']) for i in range(total)]\n",
    "table_bids['id_ads'] = [random.choice(table_ads['id_ads']) for i in range(total)]\n"
   ]
  },
  {
   "cell_type": "code",
   "execution_count": 18,
   "id": "ebd5b732",
   "metadata": {},
   "outputs": [],
   "source": [
    "table_bids = pd.DataFrame(table_bids)\n",
    "table_bids.to_csv('bids_2.csv', index=False)"
   ]
  }
 ],
 "metadata": {
  "kernelspec": {
   "display_name": "Python 3 (ipykernel)",
   "language": "python",
   "name": "python3"
  },
  "language_info": {
   "codemirror_mode": {
    "name": "ipython",
    "version": 3
   },
   "file_extension": ".py",
   "mimetype": "text/x-python",
   "name": "python",
   "nbconvert_exporter": "python",
   "pygments_lexer": "ipython3",
   "version": "3.10.11"
  }
 },
 "nbformat": 4,
 "nbformat_minor": 5
}
